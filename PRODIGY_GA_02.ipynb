{
  "cells": [
    {
      "cell_type": "markdown",
      "metadata": {
        "id": "view-in-github",
        "colab_type": "text"
      },
      "source": [
        "<a href=\"https://colab.research.google.com/github/kunalsanga/PRODIGY_TrackCode_TaskNumber/blob/main/PRODIGY_GA_02.ipynb\" target=\"_parent\"><img src=\"https://colab.research.google.com/assets/colab-badge.svg\" alt=\"Open In Colab\"/></a>"
      ]
    },
    {
      "cell_type": "code",
      "execution_count": null,
      "metadata": {
        "id": "H9ucLngfhQsk"
      },
      "outputs": [],
      "source": [
        "!pip install min-dalle -q"
      ]
    },
    {
      "cell_type": "code",
      "execution_count": null,
      "metadata": {
        "colab": {
          "base_uri": "https://localhost:8080/"
        },
        "id": "9M7apmqu5Wwl",
        "outputId": "a30e245a-f129-4960-ccd3-be66a13a8248"
      },
      "outputs": [
        {
          "output_type": "stream",
          "name": "stdout",
          "text": [
            "using device cpu\n",
            "intializing TextTokenizer\n",
            "initializing DalleBartEncoder\n",
            "initializing DalleBartDecoder\n"
          ]
        }
      ],
      "source": [
        "from min_dalle import MinDalle\n",
        "model = MinDalle(is_mega=True, is_reusable=True)"
      ]
    },
    {
      "cell_type": "code",
      "execution_count": null,
      "metadata": {
        "id": "nzowAsRt6bhE"
      },
      "outputs": [],
      "source": [
        "%%time\n",
        "text = \"blackhole near solar system\"\n",
        "seed=6\n",
        "grid_size=2\n",
        "display(model.generate_image(text, seed, grid_size))"
      ]
    }
  ],
  "metadata": {
    "accelerator": "GPU",
    "colab": {
      "gpuType": "T4",
      "provenance": [],
      "authorship_tag": "ABX9TyND4dSG6tZ+CLyDCUxyyTxy",
      "include_colab_link": true
    },
    "kernelspec": {
      "display_name": "Python 3",
      "name": "python3"
    },
    "language_info": {
      "name": "python"
    }
  },
  "nbformat": 4,
  "nbformat_minor": 0
}